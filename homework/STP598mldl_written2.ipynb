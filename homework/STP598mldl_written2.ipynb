{
 "cells": [
  {
   "cell_type": "markdown",
   "metadata": {},
   "source": [
    "# STP598 Machine Learning \\& Deep Learning\n",
    "## Written Assignment 2\n",
    "### Due 11:59pm Wednesday Oct. 9, 2024 on Canvas\n",
    "\n",
    "### name,  id"
   ]
  },
  {
   "cell_type": "markdown",
   "metadata": {
    "nbgrader": {
     "grade": false,
     "grade_id": "cell-9f9d05ef92765f1d",
     "locked": true,
     "schema_version": 3,
     "solution": false,
     "task": false
    }
   },
   "source": [
    "## Question 1 (Negative Bionomial Regression)\n",
    "\n",
    "In class we talked about Poisson regression for counting data. Notice that the variance is equal to the mean $\\mathrm{Var}(Y) = \\mathrm{E}(Y)$. However in certain circumstances the observed variance is bigger than the mean, known as *overdispersion* and Poisson becomes an inappropriate model. To address this issue, alternative models such as **negative binomial** model and **zero-inflated** model are proposed.\n",
    "\n",
    "In negative binomial regression, the counts $Y$ are modeled using the negative binomial distribution, which usually characterizes the distribution of random number of successes before $r$ failures with success probability $p$:\n",
    "$$Y\\sim \\mathrm{NB}(r, p), \\qquad \\mathrm{Pr}(Y=y|r, p) = \\binom{y+r-1}{y} p^y (1-p)^r$$\n",
    "with the mean $\\mathrm{E}(Y)=\\mu=\\frac{pr}{1-p}$ and the variance $\\mathrm{Var}(Y)=\\mu(1+\\mu/r)$.\n",
    "Reparametrize it in terms of $r$ and $\\mu$ and we actually get negative binomial represented as **Gamma-Poisson** mixture:\n",
    "$$\n",
    "Y|\\lambda \\sim \\mathrm{Pois}(\\lambda)\\\\\n",
    "\\lambda|r,\\mu \\sim \\Gamma(r, \\mu/r)\n",
    "$$\n",
    "with the density rewritten as\n",
    "$$\\mathrm{Pr}(Y=y|r, \\mu) = \\frac{\\Gamma(y+r)}{\\Gamma(y+1)\\Gamma(r)} \\left(\\frac{\\mu}{r+\\mu}\\right)^y \\left(\\frac{r}{r+\\mu}\\right)^r$$\n",
    "\n",
    "Now in generalized linear model of negative binomial regression given covariates $X$, what is the link function? Can you write down the log-likelihood function in terms of $r$ and regression parameter $\\beta$? Briefly explain how you will fit the model if $r$ is relaxed to be a real number?"
   ]
  },
  {
   "cell_type": "markdown",
   "metadata": {
    "nbgrader": {
     "grade": false,
     "grade_id": "cell-ffbcf0badabea285",
     "locked": false,
     "schema_version": 3,
     "solution": true,
     "task": false
    }
   },
   "source": [
    "## Question 2\n",
    "\n",
    "The Iris dataset represents 3 kind of Iris flowers (Setosa, Versicolour and Virginica) with 4 attributes: sepal length, sepal width, petal length and petal width.\n",
    "\n",
    "Principal Component Analysis (PCA) applied to this data identifies the combination of attributes (principal components, or directions in the feature space) that account for the most variance in the data. We can plot the different samples on the first 2 principal components.\n",
    "\n",
    "We first load the data set."
   ]
  },
  {
   "cell_type": "code",
   "execution_count": 1,
   "metadata": {},
   "outputs": [],
   "source": [
    "from sklearn import datasets\n",
    "\n",
    "iris = datasets.load_iris()\n",
    "X = iris.data\n",
    "y = iris.target\n",
    "target_names = iris.target_names"
   ]
  },
  {
   "cell_type": "markdown",
   "metadata": {},
   "source": [
    "Now we run PCA on this data set and plot the samples on the first 2 principal directions."
   ]
  },
  {
   "cell_type": "code",
   "execution_count": 2,
   "metadata": {},
   "outputs": [
    {
     "data": {
      "image/png": "[encoded data removed]",
      "text/plain": [
       "<Figure size 432x288 with 1 Axes>"
      ]
     },
     "metadata": {
      "needs_background": "light"
     },
     "output_type": "display_data"
    }
   ],
   "source": [
    "import matplotlib.pyplot as plt\n",
    "from sklearn.decomposition import PCA\n",
    "%matplotlib inline\n",
    "\n",
    "pca = PCA(n_components=2)\n",
    "X_r = pca.fit(X).transform(X)\n",
    "plt.figure()\n",
    "colors = ['navy', 'turquoise', 'darkorange']\n",
    "lw = 2\n",
    "\n",
    "for color, i, target_name in zip(colors, [0, 1, 2], target_names):\n",
    "    plt.scatter(X_r[y == i, 0], X_r[y == i, 1], color=color, alpha=.8, lw=lw,\n",
    "                label=target_name)\n",
    "plt.legend(loc='best', shadow=False, scatterpoints=1)\n",
    "plt.title('PCA of IRIS dataset')\n",
    "plt.show()"
   ]
  },
  {
   "cell_type": "markdown",
   "metadata": {},
   "source": [
    "* Now make the similar plots using LDA (`sklearn.discriminant_analysis.LinearDiscriminantAnalysis`). Set *n_components=2* in the LDA function."
   ]
  },
  {
   "cell_type": "markdown",
   "metadata": {},
   "source": [
    "Save such 2d latent outputs by LDA as `Xr2`. Now use `X_r2` and `y` to fit the following models:\n",
    "\n",
    "1. LDA and logistic regression (`sklearn.linear_model.LogisticRegression`). Plot their decision boundaries on the same picture (Please use different colors or line styles to differentiate them).\n",
    "2. QDA (`sklearn.discriminant_analysis.QuadraticDiscriminantAnalysis`) and LDA with quadratic terms. Plot their decision boundaries on the same picture (Please use different colors or line styles to differentiate them)."
   ]
  }
 ],
 "metadata": {
  "celltoolbar": "Create Assignment",
  "kernelspec": {
   "display_name": "Python 3 (ipykernel)",
   "language": "python",
   "name": "python3"
  },
  "language_info": {
   "codemirror_mode": {
    "name": "ipython",
    "version": 3
   },
   "file_extension": ".py",
   "mimetype": "text/x-python",
   "name": "python",
   "nbconvert_exporter": "python",
   "pygments_lexer": "ipython3",
   "version": "3.8.19"
  }
 },
 "nbformat": 4,
 "nbformat_minor": 4
}
