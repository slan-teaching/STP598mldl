{
 "cells": [
  {
   "cell_type": "markdown",
   "metadata": {},
   "source": [
    "# STP598 Machine Learning \\& Deep Learning\n",
    "## Written Assignment 1\n",
    "### Due 11:59pm Friday Sept. 22, 2024 on Canvas\n",
    "\n",
    "### name,  id"
   ]
  },
  {
   "cell_type": "markdown",
   "metadata": {
    "nbgrader": {
     "grade": false,
     "grade_id": "cell-c4860381156b50ef",
     "locked": true,
     "schema_version": 3,
     "solution": false,
     "task": false
    }
   },
   "source": [
    "## Question 1\n",
    "\n",
    "Let $C_1$, $C_2$, $C_3$ be independent events with probabilities $\\frac12$, $\\frac14$, $\\frac18$, respectively. \n",
    "\n",
    "1. Compute $P(C_1\\cup C_2 \\cup C_3)$.\n",
    "2. Compute $P(C_1^c\\cup C_2^c \\cup C_3^c)$."
   ]
  },
  {
   "cell_type": "markdown",
   "metadata": {
    "nbgrader": {
     "grade": false,
     "grade_id": "cell-9f9d05ef92765f1d",
     "locked": true,
     "schema_version": 3,
     "solution": false,
     "task": false
    }
   },
   "source": [
    "## Question 2\n",
    "\n",
    "In class we talked about Monty Hall problem (refer to page 34 of lecture 1). \n",
    "\n",
    "1. Now if there are 4 doors, you pick door 1 and Monty opens door 3 and door 4, will the conclusion change if you switch your choice to door 2? Compute the relative probabilities.\n",
    "\n",
    "2. Again there are 4 doors, you pick door 1 and Monty only opens 4. Should you change your choice? Write down your analysis.\n"
   ]
  },
  {
   "cell_type": "markdown",
   "metadata": {
    "nbgrader": {
     "grade": false,
     "grade_id": "cell-ffbcf0badabea285",
     "locked": false,
     "schema_version": 3,
     "solution": true,
     "task": false
    }
   },
   "source": [
    "## Question 3\n",
    "\n",
    "In the linear regression\n",
    "\n",
    "\\begin{equation}\n",
    "Y = X \\beta + \\epsilon, \\quad \\epsilon \\overset{iid}{\\sim} (0, \\sigma^2)\n",
    "\\end{equation}\n",
    "\n",
    "Given data $\\{y_i, {\\bf x}_i\\}_{i=1}^n$, assume $n>p$ with $p$ being the number of features. We can have the following estimator for $\\sigma^2$ (Refer to page 13 of lecture 2 for relevant symbols):\n",
    "\n",
    "\\begin{equation}\n",
    "\\hat\\sigma^2 = \\frac{\\sum_{i=1}^n (y_i-\\hat y_i)^2}{n-(p+1)} = \\frac{\\Vert {\\bf y}-\\hat {\\bf y}\\Vert^2}{n-(p+1)} = \\frac{{\\bf y}^T ({\\bf I}-{\\bf H}) {\\bf y}}{n-(p+1)}\n",
    "\\end{equation}\n",
    "\n",
    "1. We know $\\mathbb E[{\\bf v}^T\\Lambda {\\bf v}] = \\mu^T \\Lambda \\mu + \\mathrm{tr}[\\Lambda \\Sigma]$ for ranom vector ${\\bf v}$ with $\\mathbb E [{\\bf v}]=\\mu$ and $\\mathrm{Cov}[{\\bf v}] = \\Sigma$. Can you prove that $\\hat\\sigma^2$ is an unbiased estimator of $\\sigma^2$, i.e. $\\mathbb E[\\hat\\sigma^2] = \\sigma^2$?\n",
    "2. (bonus) Can you further show that $\\hat\\sigma^2 / \\sigma^2 \\sim \\chi^2(n-(p+1))$? What condition do you need?"
   ]
  },
  {
   "cell_type": "markdown",
   "metadata": {},
   "source": [
    "## Question 4\n",
    "\n",
    "Consider diabetes data in scikit-learn package. Load it as follows."
   ]
  },
  {
   "cell_type": "code",
   "execution_count": 1,
   "metadata": {
    "nbgrader": {
     "grade": true,
     "grade_id": "cell-71fec7304690b95c",
     "locked": true,
     "points": 5,
     "schema_version": 3,
     "solution": false,
     "task": false
    }
   },
   "outputs": [
    {
     "name": "stderr",
     "output_type": "stream",
     "text": [
      "/var/folders/tr/j9_crgcs60gfp9qnn3y7nfgm0000gp/T/ipykernel_23998/2973242441.py:10: FutureWarning: In a future version of pandas all arguments of concat except for the argument 'objs' will be keyword-only.\n",
      "  diabetes = pd.concat([diabetes_y, diabetes_X],1)\n"
     ]
    },
    {
     "data": {
      "text/html": [
       "<div>\n",
       "<style scoped>\n",
       "    .dataframe tbody tr th:only-of-type {\n",
       "        vertical-align: middle;\n",
       "    }\n",
       "\n",
       "    .dataframe tbody tr th {\n",
       "        vertical-align: top;\n",
       "    }\n",
       "\n",
       "    .dataframe thead th {\n",
       "        text-align: right;\n",
       "    }\n",
       "</style>\n",
       "<table border=\"1\" class=\"dataframe\">\n",
       "  <thead>\n",
       "    <tr style=\"text-align: right;\">\n",
       "      <th></th>\n",
       "      <th>target</th>\n",
       "      <th>age</th>\n",
       "      <th>sex</th>\n",
       "      <th>bmi</th>\n",
       "      <th>bp</th>\n",
       "      <th>s1</th>\n",
       "      <th>s2</th>\n",
       "      <th>s3</th>\n",
       "      <th>s4</th>\n",
       "      <th>s5</th>\n",
       "      <th>s6</th>\n",
       "    </tr>\n",
       "  </thead>\n",
       "  <tbody>\n",
       "    <tr>\n",
       "      <th>0</th>\n",
       "      <td>151.0</td>\n",
       "      <td>0.038076</td>\n",
       "      <td>0.050680</td>\n",
       "      <td>0.061696</td>\n",
       "      <td>0.021872</td>\n",
       "      <td>-0.044223</td>\n",
       "      <td>-0.034821</td>\n",
       "      <td>-0.043401</td>\n",
       "      <td>-0.002592</td>\n",
       "      <td>0.019907</td>\n",
       "      <td>-0.017646</td>\n",
       "    </tr>\n",
       "    <tr>\n",
       "      <th>1</th>\n",
       "      <td>75.0</td>\n",
       "      <td>-0.001882</td>\n",
       "      <td>-0.044642</td>\n",
       "      <td>-0.051474</td>\n",
       "      <td>-0.026328</td>\n",
       "      <td>-0.008449</td>\n",
       "      <td>-0.019163</td>\n",
       "      <td>0.074412</td>\n",
       "      <td>-0.039493</td>\n",
       "      <td>-0.068332</td>\n",
       "      <td>-0.092204</td>\n",
       "    </tr>\n",
       "    <tr>\n",
       "      <th>2</th>\n",
       "      <td>141.0</td>\n",
       "      <td>0.085299</td>\n",
       "      <td>0.050680</td>\n",
       "      <td>0.044451</td>\n",
       "      <td>-0.005670</td>\n",
       "      <td>-0.045599</td>\n",
       "      <td>-0.034194</td>\n",
       "      <td>-0.032356</td>\n",
       "      <td>-0.002592</td>\n",
       "      <td>0.002861</td>\n",
       "      <td>-0.025930</td>\n",
       "    </tr>\n",
       "    <tr>\n",
       "      <th>3</th>\n",
       "      <td>206.0</td>\n",
       "      <td>-0.089063</td>\n",
       "      <td>-0.044642</td>\n",
       "      <td>-0.011595</td>\n",
       "      <td>-0.036656</td>\n",
       "      <td>0.012191</td>\n",
       "      <td>0.024991</td>\n",
       "      <td>-0.036038</td>\n",
       "      <td>0.034309</td>\n",
       "      <td>0.022688</td>\n",
       "      <td>-0.009362</td>\n",
       "    </tr>\n",
       "    <tr>\n",
       "      <th>4</th>\n",
       "      <td>135.0</td>\n",
       "      <td>0.005383</td>\n",
       "      <td>-0.044642</td>\n",
       "      <td>-0.036385</td>\n",
       "      <td>0.021872</td>\n",
       "      <td>0.003935</td>\n",
       "      <td>0.015596</td>\n",
       "      <td>0.008142</td>\n",
       "      <td>-0.002592</td>\n",
       "      <td>-0.031988</td>\n",
       "      <td>-0.046641</td>\n",
       "    </tr>\n",
       "  </tbody>\n",
       "</table>\n",
       "</div>"
      ],
      "text/plain": [
       "   target       age       sex       bmi        bp        s1        s2  \\\n",
       "0   151.0  0.038076  0.050680  0.061696  0.021872 -0.044223 -0.034821   \n",
       "1    75.0 -0.001882 -0.044642 -0.051474 -0.026328 -0.008449 -0.019163   \n",
       "2   141.0  0.085299  0.050680  0.044451 -0.005670 -0.045599 -0.034194   \n",
       "3   206.0 -0.089063 -0.044642 -0.011595 -0.036656  0.012191  0.024991   \n",
       "4   135.0  0.005383 -0.044642 -0.036385  0.021872  0.003935  0.015596   \n",
       "\n",
       "         s3        s4        s5        s6  \n",
       "0 -0.043401 -0.002592  0.019907 -0.017646  \n",
       "1  0.074412 -0.039493 -0.068332 -0.092204  \n",
       "2 -0.032356 -0.002592  0.002861 -0.025930  \n",
       "3 -0.036038  0.034309  0.022688 -0.009362  \n",
       "4  0.008142 -0.002592 -0.031988 -0.046641  "
      ]
     },
     "execution_count": 1,
     "metadata": {},
     "output_type": "execute_result"
    }
   ],
   "source": [
    "import matplotlib.pyplot as plt\n",
    "import numpy as np\n",
    "from sklearn import datasets\n",
    "\n",
    "# Load the diabetes dataset\n",
    "diabetes_X, diabetes_y = datasets.load_diabetes(return_X_y=True, as_frame=True)\n",
    "\n",
    "# print the first 5 records\n",
    "import pandas as pd\n",
    "diabetes = pd.concat([diabetes_y, diabetes_X],1)\n",
    "diabetes.head(5)"
   ]
  },
  {
   "cell_type": "markdown",
   "metadata": {},
   "source": [
    "1. Fit linear regression, ridge regression and lasso respectively. The panelty parameters can be determined using cross-validation (`sklearn.linear_model.RidgeCV`, `sklearn.linear_model.LassoCV`). Plot the fitted $\\hat y$ vs orginal $y$ for each model and put them on the same figure (use `subplot`).\n",
    "\n",
    "2. Plot lasso coefficients as a function of the regularization. Refer to `plot_ridge_path.ipynb`."
   ]
  }
 ],
 "metadata": {
  "celltoolbar": "Create Assignment",
  "kernelspec": {
   "display_name": "Python 3 (ipykernel)",
   "language": "python",
   "name": "python3"
  },
  "language_info": {
   "codemirror_mode": {
    "name": "ipython",
    "version": 3
   },
   "file_extension": ".py",
   "mimetype": "text/x-python",
   "name": "python",
   "nbconvert_exporter": "python",
   "pygments_lexer": "ipython3",
   "version": "3.8.19"
  }
 },
 "nbformat": 4,
 "nbformat_minor": 4
}
