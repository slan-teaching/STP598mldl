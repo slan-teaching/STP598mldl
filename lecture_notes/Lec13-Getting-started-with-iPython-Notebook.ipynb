{
 "cells": [
  {
   "cell_type": "markdown",
   "metadata": {},
   "source": [
    "# Getting started with Python\n",
    "\n",
    "## THIS IS A QUICK START TO PYTHON AND JUPYTER NOTEBOOK\n",
    "### (in the next chapter we go in more depth with some important comands and variables that appear here)\n",
    "\n",
    "#### The best way to practice is to run all cells by yourself, but previously reset all the outputs. To reset, click on Kernel tab at the top and choose Restart and Clear Output. "
   ]
  },
  {
   "cell_type": "markdown",
   "metadata": {},
   "source": [
    "\n",
    "<br>\n",
    "\n",
    "<div style=\"font-size: 20px\">Let's not break the tradition! Let's start with \"Hello, World!\"\n",
    "    </div>\n",
    "\n",
    "<br>\n",
    "\n"
   ]
  },
  {
   "cell_type": "code",
   "execution_count": 2,
   "metadata": {
    "scrolled": false
   },
   "outputs": [
    {
     "name": "stdout",
     "output_type": "stream",
     "text": [
      "Hello World!\n"
     ]
    }
   ],
   "source": [
    "print('Hello World!')"
   ]
  },
  {
   "cell_type": "markdown",
   "metadata": {},
   "source": [
    "## Create some variables in Python"
   ]
  },
  {
   "cell_type": "code",
   "execution_count": 3,
   "metadata": {},
   "outputs": [],
   "source": [
    "i = 4  # int"
   ]
  },
  {
   "cell_type": "code",
   "execution_count": 5,
   "metadata": {},
   "outputs": [
    {
     "data": {
      "text/plain": [
       "int"
      ]
     },
     "execution_count": 5,
     "metadata": {},
     "output_type": "execute_result"
    }
   ],
   "source": [
    "# show the type of the variable i\n",
    "type(i)"
   ]
  },
  {
   "cell_type": "code",
   "execution_count": 6,
   "metadata": {},
   "outputs": [
    {
     "data": {
      "text/plain": [
       "float"
      ]
     },
     "execution_count": 6,
     "metadata": {},
     "output_type": "execute_result"
    }
   ],
   "source": [
    "f = 4.1   # float (double precision, floating point numeric variable)\n",
    "type(f)"
   ]
  },
  {
   "cell_type": "code",
   "execution_count": 7,
   "metadata": {},
   "outputs": [
    {
     "name": "stdout",
     "output_type": "stream",
     "text": [
      "(2+3j)\n"
     ]
    },
    {
     "data": {
      "text/plain": [
       "complex"
      ]
     },
     "execution_count": 7,
     "metadata": {},
     "output_type": "execute_result"
    }
   ],
   "source": [
    "z = 2 + 3j  # complex (j is i=(0,1) in R^2 representation of C)\n",
    "            # there must be no space between 3 and j\n",
    "print(z)\n",
    "type(z)"
   ]
  },
  {
   "cell_type": "code",
   "execution_count": 8,
   "metadata": {},
   "outputs": [
    {
     "name": "stdout",
     "output_type": "stream",
     "text": [
      "True\n"
     ]
    },
    {
     "data": {
      "text/plain": [
       "bool"
      ]
     },
     "execution_count": 8,
     "metadata": {},
     "output_type": "execute_result"
    }
   ],
   "source": [
    "b = True   # bool (boolean i.e. logical variable)\n",
    "print(b)\n",
    "type(b)"
   ]
  },
  {
   "cell_type": "code",
   "execution_count": 9,
   "metadata": {},
   "outputs": [
    {
     "name": "stdout",
     "output_type": "stream",
     "text": [
      "This is a string!\n"
     ]
    },
    {
     "data": {
      "text/plain": [
       "str"
      ]
     },
     "execution_count": 9,
     "metadata": {},
     "output_type": "execute_result"
    }
   ],
   "source": [
    "s = \"This is a string!\"\n",
    "print(s)\n",
    "type(s)"
   ]
  },
  {
   "cell_type": "markdown",
   "metadata": {},
   "source": [
    "## Commenting\n",
    "\n",
    "As you may have noticed, to tell Python to ignore certain content, such as your notes or a test code line, i.e. to treat a certain text as a comment, you start the comment with `#`. Everything after symbol `#` is ignored. You can also put a comment after a code line. For easier reading, you can often see some people commenting by starting with `##` (and Python woould treat the 2nd symbol `#` as the first character of the comment).\n",
    "\n",
    "To have a comment in multiple lines, apart from starting with `#` in each line, you can also start and end the entire multiple line comment with `\"\"\"`. Unlike `#`, you should not have more than 3 characters `\"`."
   ]
  },
  {
   "cell_type": "code",
   "execution_count": 8,
   "metadata": {},
   "outputs": [
    {
     "data": {
      "text/plain": [
       "7"
      ]
     },
     "execution_count": 8,
     "metadata": {},
     "output_type": "execute_result"
    }
   ],
   "source": [
    "## this is a comment line\n",
    "# and this is the second line \n",
    "## and the third one\n",
    "bla = 7\n",
    "bla"
   ]
  },
  {
   "cell_type": "code",
   "execution_count": 9,
   "metadata": {},
   "outputs": [
    {
     "data": {
      "text/plain": [
       "7"
      ]
     },
     "execution_count": 9,
     "metadata": {},
     "output_type": "execute_result"
    }
   ],
   "source": [
    "\"\"\"\n",
    "this is another way\n",
    "of commenting\n",
    "in multiple lines\n",
    "\"\"\"\n",
    "bla = 7\n",
    "bla"
   ]
  },
  {
   "cell_type": "markdown",
   "metadata": {},
   "source": [
    "## Getting Info and Help\n",
    "\n",
    "<br>\n",
    "To look for basic info about a variable, type the question mark ? before or after the variable name "
   ]
  },
  {
   "cell_type": "code",
   "execution_count": 10,
   "metadata": {},
   "outputs": [],
   "source": [
    "## s was created above\n",
    "?s"
   ]
  },
  {
   "cell_type": "markdown",
   "metadata": {},
   "source": [
    "To look for basic info on a given command, type help(your_command)"
   ]
  },
  {
   "cell_type": "code",
   "execution_count": 11,
   "metadata": {
    "scrolled": false
   },
   "outputs": [
    {
     "name": "stdout",
     "output_type": "stream",
     "text": [
      "Help on built-in function print in module builtins:\n",
      "\n",
      "print(...)\n",
      "    print(value, ..., sep=' ', end='\\n', file=sys.stdout, flush=False)\n",
      "    \n",
      "    Prints the values to a stream, or to sys.stdout by default.\n",
      "    Optional keyword arguments:\n",
      "    file:  a file-like object (stream); defaults to the current sys.stdout.\n",
      "    sep:   string inserted between values, default a space.\n",
      "    end:   string appended after the last value, default a newline.\n",
      "    flush: whether to forcibly flush the stream.\n",
      "\n"
     ]
    }
   ],
   "source": [
    "help(print)"
   ]
  },
  {
   "cell_type": "markdown",
   "metadata": {},
   "source": [
    "## Key Shortcuts\n",
    "\n",
    "By pressing Esc + H you get help on <b>key shortcuts</b> in both **Command Mode** and <b>Edit Mode</b> (for Edit Mode, scroll down in the window). This is also done by clicking on Help tab at the top of the notebook."
   ]
  },
  {
   "cell_type": "markdown",
   "metadata": {},
   "source": [
    "<img src=\"key-shortcuts.jpg\" style=\"height:400px; width:380px\">"
   ]
  },
  {
   "cell_type": "markdown",
   "metadata": {},
   "source": [
    "## Advanced Variable Types"
   ]
  },
  {
   "cell_type": "code",
   "execution_count": 10,
   "metadata": {},
   "outputs": [
    {
     "name": "stdout",
     "output_type": "stream",
     "text": [
      "[3, 1.0, 4.0, 'bla', (3+2j)]\n"
     ]
    },
    {
     "data": {
      "text/plain": [
       "list"
      ]
     },
     "execution_count": 10,
     "metadata": {},
     "output_type": "execute_result"
    }
   ],
   "source": [
    "# list (can contain components of different types)\n",
    "li = [3, 1.0 , 8/2, \"bla\", 3+2j]  \n",
    "\n",
    "print(li)\n",
    "type(li)"
   ]
  },
  {
   "cell_type": "code",
   "execution_count": 12,
   "metadata": {},
   "outputs": [
    {
     "data": {
      "text/plain": [
       "{'foo': 1, 'bar': 2.3, 's': 'my first dictionary'}"
      ]
     },
     "execution_count": 12,
     "metadata": {},
     "output_type": "execute_result"
    }
   ],
   "source": [
    "# dictionary  (in 'foo':1  foo is called key, and 1 is its value)\n",
    "di = {'foo':1, 'bar':2.3, 's':'my first dictionary'}  \n",
    "di"
   ]
  },
  {
   "cell_type": "code",
   "execution_count": 13,
   "metadata": {
    "scrolled": false
   },
   "outputs": [
    {
     "data": {
      "text/plain": [
       "2.3"
      ]
     },
     "execution_count": 13,
     "metadata": {},
     "output_type": "execute_result"
    }
   ],
   "source": [
    "di['bar']  #element of a dictionary"
   ]
  },
  {
   "cell_type": "markdown",
   "metadata": {},
   "source": [
    "`try-except` code chunks enable you to try certain command or set of commands, given in the `try` section. If it doesn't compile, do the alternative code chunk, given in the `except` section. There is a third (optional) section, `finally`, which executes code chunk regarless of `try` and/or `except` part. "
   ]
  },
  {
   "cell_type": "code",
   "execution_count": 14,
   "metadata": {},
   "outputs": [
    {
     "name": "stdout",
     "output_type": "stream",
     "text": [
      "Oops! You can't use indexes for calling a dictionary component; think of keys as dictionary's indexes!\n",
      "Anyhow, keys are dictionary's indices\n",
      "2.3\n"
     ]
    }
   ],
   "source": [
    "## the try block will generate an exepction, as di[1] is not allowed. \n",
    "try:\n",
    "    di[1]\n",
    "except:\n",
    "    print(\"Oops! You can't use indexes for calling a dictionary component; \"\\\n",
    "          \"think of keys as dictionary's indexes!\")\n",
    "finally:\n",
    "    print(\"Anyhow, keys are dictionary's indices\")\n",
    "    print(di['bar'])\n",
    "    "
   ]
  },
  {
   "cell_type": "code",
   "execution_count": 16,
   "metadata": {},
   "outputs": [
    {
     "name": "stdout",
     "output_type": "stream",
     "text": [
      "(-2, 'bla', 7.3)\n"
     ]
    },
    {
     "data": {
      "text/plain": [
       "tuple"
      ]
     },
     "execution_count": 16,
     "metadata": {},
     "output_type": "execute_result"
    }
   ],
   "source": [
    "# touple\n",
    "tp = (-2, \"bla\", 7.3)\n",
    "print(tp)\n",
    "type(tp)"
   ]
  },
  {
   "cell_type": "code",
   "execution_count": 17,
   "metadata": {},
   "outputs": [
    {
     "name": "stdout",
     "output_type": "stream",
     "text": [
      "(-2, 'bla', 7.3)\n"
     ]
    },
    {
     "data": {
      "text/plain": [
       "tuple"
      ]
     },
     "execution_count": 17,
     "metadata": {},
     "output_type": "execute_result"
    }
   ],
   "source": [
    "# can also define tuple w/o parentheses \n",
    "# unless the expression is too complicated\n",
    "\n",
    "tp = -2, \"bla\", 7.3\n",
    "\n",
    "print(tp)\n",
    "type(tp)"
   ]
  },
  {
   "cell_type": "code",
   "execution_count": 16,
   "metadata": {},
   "outputs": [
    {
     "name": "stdout",
     "output_type": "stream",
     "text": [
      "range(0, 5)\n",
      "5\n"
     ]
    },
    {
     "data": {
      "text/plain": [
       "range"
      ]
     },
     "execution_count": 16,
     "metadata": {},
     "output_type": "execute_result"
    }
   ],
   "source": [
    "# range\n",
    "ra = range(5)\n",
    "print(ra)\n",
    "print(len(ra))  ## length of the variable ra\n",
    "type(ra)"
   ]
  },
  {
   "cell_type": "code",
   "execution_count": 17,
   "metadata": {},
   "outputs": [
    {
     "data": {
      "text/plain": [
       "NoneType"
      ]
     },
     "execution_count": 17,
     "metadata": {},
     "output_type": "execute_result"
    }
   ],
   "source": [
    "# Python's null type\n",
    "n = None  \n",
    "type(n)"
   ]
  },
  {
   "cell_type": "markdown",
   "metadata": {},
   "source": [
    "### To recapitulate:\n",
    " \n",
    " #### Basic Types\n",
    "\n",
    "`int`: integer\n",
    "\n",
    "`float`: real number (double precision, floating point number)\n",
    "\n",
    "`complex`: complex\n",
    "\n",
    "`boolean`: logical\n",
    "\n",
    "`str`: string (character)\n",
    "\n",
    "\n",
    "#### Advanced Types\n",
    "\n",
    "`list`: a list (can be thought of what is \"array\" in some other languages)\n",
    "\n",
    "`tuple`: $n$-tuple, an ordered set of length $n \\in \\{0, 1, 2, 3, \\dots \\}$\n",
    "\n",
    "`range`: range variable, for iterative loops (i.e. for sequencing)\n",
    "\n",
    "\n",
    "\n",
    "**NOTES**\n",
    "\n",
    "* `int`, `float` and `complex` are called numeric types\n",
    "\n",
    "* `list`, `tuple` and `range` are called sequence types; they are iterable, you can run a loop through them - see below\n",
    "\n",
    "* There are many other types of variables/data; some of them built in, but many others are defined within particular modules/libraries/packages (such as `ndarray` from `numpy` module, or `Series` and `DataFrame` from `pandas` module)\n"
   ]
  },
  {
   "cell_type": "markdown",
   "metadata": {},
   "source": [
    "## Advanced printing"
   ]
  },
  {
   "cell_type": "code",
   "execution_count": 18,
   "metadata": {},
   "outputs": [
    {
     "name": "stdout",
     "output_type": "stream",
     "text": [
      "Our float value is 4.1. Our int value is 4.\n"
     ]
    }
   ],
   "source": [
    "i = 4; f = 4.1\n",
    "\n",
    "print(\"Our float value is %s. Our int value is %s.\" % (f,i))  #Python is pretty good with strings"
   ]
  },
  {
   "cell_type": "markdown",
   "metadata": {},
   "source": [
    "## Getting and Changing Working Directory"
   ]
  },
  {
   "cell_type": "code",
   "execution_count": 19,
   "metadata": {},
   "outputs": [
    {
     "data": {
      "text/plain": [
       "'/Users/slan/Teaching/ASU/DAT301/Lectures'"
      ]
     },
     "execution_count": 19,
     "metadata": {},
     "output_type": "execute_result"
    }
   ],
   "source": [
    "## import (i.e. load) module (i.e. package) os; \n",
    "## this is equivalent to R's function library()\n",
    "import os   \n",
    "\n",
    "## print current working directory; note that you need to specify \n",
    "## the parent package of the child function getcwd()\n",
    "mypath = os.getcwd()\n",
    "\n",
    "mypath"
   ]
  },
  {
   "cell_type": "code",
   "execution_count": 4,
   "metadata": {},
   "outputs": [
    {
     "data": {
      "text/plain": [
       "[str, 40]"
      ]
     },
     "execution_count": 4,
     "metadata": {},
     "output_type": "execute_result"
    }
   ],
   "source": [
    "[type(mypath), len(mypath)]"
   ]
  },
  {
   "cell_type": "code",
   "execution_count": 5,
   "metadata": {},
   "outputs": [
    {
     "name": "stdout",
     "output_type": "stream",
     "text": [
      "/Users/slan/Teaching/ASU/DAT301/Lectures\n"
     ]
    }
   ],
   "source": [
    "## to get without double backslashes, use print command (which is \"as is\")\n",
    "print(mypath)"
   ]
  },
  {
   "cell_type": "code",
   "execution_count": 2,
   "metadata": {},
   "outputs": [
    {
     "name": "stdout",
     "output_type": "stream",
     "text": [
      "/Users/slan/Teaching/ASU/DAT301\n"
     ]
    }
   ],
   "source": [
    "## change working directory using os function chdir\n",
    "## Specify the destination path in the argument. It can be absolute or relative. Use '../' to move up.\n",
    "## You can change the current directory in the same way as the UNIX cd command.\n",
    "\n",
    "os.chdir('../')\n",
    "\n",
    "print(os.getcwd())     ## didn't have to use \"print\", but just emphasizing"
   ]
  },
  {
   "cell_type": "code",
   "execution_count": 3,
   "metadata": {},
   "outputs": [
    {
     "name": "stdout",
     "output_type": "stream",
     "text": [
      "/Users/slan/Teaching/ASU/DAT301\n"
     ]
    }
   ],
   "source": [
    "os.chdir('./')\n",
    "\n",
    "print(os.getcwd())"
   ]
  },
  {
   "cell_type": "markdown",
   "metadata": {},
   "source": [
    "## Conditional statements in Python"
   ]
  },
  {
   "cell_type": "code",
   "execution_count": 26,
   "metadata": {
    "scrolled": true
   },
   "outputs": [
    {
     "name": "stdout",
     "output_type": "stream",
     "text": [
      "i or f are both greater than 4.\n"
     ]
    }
   ],
   "source": [
    "i = 2; f = 4.3  ## you can write multiple statements in a single line, separating them by ;\n",
    "\n",
    "if i == 1 and f > 4:\n",
    "    print(\"The value of i is 1 and f is greater than 4.\")\n",
    "elif i > 4 or f > 4:\n",
    "    print(\"i or f are both greater than 4.\")\n",
    "else:\n",
    "    print (\"both i and f are less than or equal to 4\")\n"
   ]
  },
  {
   "cell_type": "code",
   "execution_count": 27,
   "metadata": {},
   "outputs": [
    {
     "name": "stdout",
     "output_type": "stream",
     "text": [
      "i or f are both greater than 4.\n"
     ]
    }
   ],
   "source": [
    "#you could also do this way (it's complicated, so, not recommended, at least not for long statements)\n",
    "\n",
    "print(\"The value of i is 1 and f is greater than 4.\") if (i == 1 and f > 4) else print(\"i or f are both greater than 4.\") if i > 4 or f > 4 else print (\"both i and f are less than or equal to 4\")\n"
   ]
  },
  {
   "cell_type": "markdown",
   "metadata": {},
   "source": [
    "## `for` and `while` loops"
   ]
  },
  {
   "cell_type": "code",
   "execution_count": 28,
   "metadata": {},
   "outputs": [
    {
     "name": "stdout",
     "output_type": "stream",
     "text": [
      "[3, 1.0, 4.0, 'bla', (3+2j)]\n"
     ]
    }
   ],
   "source": [
    "li = [3, 1.0 , 8/2, \"bla\", 3+2j]  \n",
    "print(li)  "
   ]
  },
  {
   "cell_type": "code",
   "execution_count": 29,
   "metadata": {},
   "outputs": [
    {
     "name": "stdout",
     "output_type": "stream",
     "text": [
      "3\n",
      "1.0\n",
      "4.0\n",
      "bla\n",
      "(3+2j)\n"
     ]
    }
   ],
   "source": [
    "for elem in li:\n",
    "    print(elem)"
   ]
  },
  {
   "cell_type": "markdown",
   "metadata": {},
   "source": [
    "#### Note that in Python we don't use {} or other markers to indicate the part of the loop that gets iterated.  Instead, we just indent and align each of the iterated statements with spaces or tabs. (You can use as many as you want, as long as the lines are aligned.)"
   ]
  },
  {
   "cell_type": "code",
   "execution_count": 30,
   "metadata": {
    "scrolled": true
   },
   "outputs": [
    {
     "name": "stdout",
     "output_type": "stream",
     "text": [
      "6\n",
      "7\n",
      "8\n",
      "9\n"
     ]
    }
   ],
   "source": [
    "counter = 6\n",
    "while counter < 10:\n",
    "    print(counter)\n",
    "    counter += 1  ## I personally don't like +=, but this is certainly used by many programers. \n",
    "                  ## Instead, I prefer (that's just me) to write:  counter = counter + 1"
   ]
  },
  {
   "cell_type": "markdown",
   "metadata": {
    "collapsed": true
   },
   "source": [
    "# Creating functions in Python\n",
    "\n",
    "Again, we don't use {}, but just indent the lines that are part of the function."
   ]
  },
  {
   "cell_type": "code",
   "execution_count": 31,
   "metadata": {},
   "outputs": [],
   "source": [
    "## indentation is important!\n",
    "\n",
    "def add2(x):\n",
    "    y = x + 2   \n",
    "    return y"
   ]
  },
  {
   "cell_type": "code",
   "execution_count": 32,
   "metadata": {},
   "outputs": [
    {
     "data": {
      "text/plain": [
       "7"
      ]
     },
     "execution_count": 32,
     "metadata": {},
     "output_type": "execute_result"
    }
   ],
   "source": [
    "add2(5)"
   ]
  },
  {
   "cell_type": "markdown",
   "metadata": {},
   "source": [
    "We can also define simple functions using reserved word `lambda` (so called lambda expressions or anonymous functions):"
   ]
  },
  {
   "cell_type": "code",
   "execution_count": 33,
   "metadata": {},
   "outputs": [
    {
     "data": {
      "text/plain": [
       "64"
      ]
     },
     "execution_count": 33,
     "metadata": {},
     "output_type": "execute_result"
    }
   ],
   "source": [
    "square = lambda x: x*x\n",
    "\n",
    "square(8)"
   ]
  },
  {
   "cell_type": "code",
   "execution_count": 1,
   "metadata": {},
   "outputs": [],
   "source": [
    "## loading pandas module/package with alias pd\n",
    "import pandas as pd"
   ]
  },
  {
   "cell_type": "code",
   "execution_count": 3,
   "metadata": {
    "scrolled": true
   },
   "outputs": [
    {
     "ename": "NameError",
     "evalue": "name 'os' is not defined",
     "output_type": "error",
     "traceback": [
      "\u001b[0;31m---------------------------------------------------------------------------\u001b[0m",
      "\u001b[0;31mNameError\u001b[0m                                 Traceback (most recent call last)",
      "\u001b[0;32m<ipython-input-3-b6e4031bcee8>\u001b[0m in \u001b[0;36m<module>\u001b[0;34m\u001b[0m\n\u001b[1;32m      1\u001b[0m \u001b[0;31m#set/change directory to be the one from which we need some file for the next cell.\u001b[0m\u001b[0;34m\u001b[0m\u001b[0;34m\u001b[0m\u001b[0;34m\u001b[0m\u001b[0m\n\u001b[0;32m----> 2\u001b[0;31m \u001b[0mos\u001b[0m\u001b[0;34m.\u001b[0m\u001b[0mchdir\u001b[0m\u001b[0;34m(\u001b[0m\u001b[0;34m\"./Lectures\"\u001b[0m\u001b[0;34m)\u001b[0m\u001b[0;34m\u001b[0m\u001b[0;34m\u001b[0m\u001b[0m\n\u001b[0m\u001b[1;32m      3\u001b[0m \u001b[0mget_ipython\u001b[0m\u001b[0;34m(\u001b[0m\u001b[0;34m)\u001b[0m\u001b[0;34m.\u001b[0m\u001b[0mrun_line_magic\u001b[0m\u001b[0;34m(\u001b[0m\u001b[0;34m'pwd'\u001b[0m\u001b[0;34m,\u001b[0m \u001b[0;34m' ##print working directory; could do it with os.getcwd() as well'\u001b[0m\u001b[0;34m)\u001b[0m\u001b[0;34m\u001b[0m\u001b[0;34m\u001b[0m\u001b[0m\n",
      "\u001b[0;31mNameError\u001b[0m: name 'os' is not defined"
     ]
    }
   ],
   "source": [
    "#set/change directory to be the one from which we need some file for the next cell.\n",
    "os.chdir(\"./Lectures\")  \n",
    "%pwd  ##print working directory; could do it with os.getcwd() as well"
   ]
  },
  {
   "cell_type": "code",
   "execution_count": 4,
   "metadata": {},
   "outputs": [
    {
     "data": {
      "text/html": [
       "<div>\n",
       "<style scoped>\n",
       "    .dataframe tbody tr th:only-of-type {\n",
       "        vertical-align: middle;\n",
       "    }\n",
       "\n",
       "    .dataframe tbody tr th {\n",
       "        vertical-align: top;\n",
       "    }\n",
       "\n",
       "    .dataframe thead th {\n",
       "        text-align: right;\n",
       "    }\n",
       "</style>\n",
       "<table border=\"1\" class=\"dataframe\">\n",
       "  <thead>\n",
       "    <tr style=\"text-align: right;\">\n",
       "      <th></th>\n",
       "      <th>Rank</th>\n",
       "      <th>Lane</th>\n",
       "      <th>Name</th>\n",
       "      <th>Nationality</th>\n",
       "      <th>Time</th>\n",
       "      <th>Notes</th>\n",
       "    </tr>\n",
       "  </thead>\n",
       "  <tbody>\n",
       "    <tr>\n",
       "      <th>0</th>\n",
       "      <td>1st place, gold medalist(s)</td>\n",
       "      <td>6</td>\n",
       "      <td>Shelly-Ann Fraser-Pryce</td>\n",
       "      <td>Jamaica (JAM)</td>\n",
       "      <td>10.71</td>\n",
       "      <td>WL</td>\n",
       "    </tr>\n",
       "    <tr>\n",
       "      <th>1</th>\n",
       "      <td>2nd place, silver medalist(s)</td>\n",
       "      <td>7</td>\n",
       "      <td>Dina Asher-Smith</td>\n",
       "      <td>Great Britain &amp; N.I. (GBR)</td>\n",
       "      <td>10.83</td>\n",
       "      <td>NR</td>\n",
       "    </tr>\n",
       "    <tr>\n",
       "      <th>2</th>\n",
       "      <td>3rd place, bronze medalist(s)</td>\n",
       "      <td>4</td>\n",
       "      <td>Marie-Josée Ta Lou</td>\n",
       "      <td>Ivory Coast (CIV)</td>\n",
       "      <td>10.9</td>\n",
       "      <td>NaN</td>\n",
       "    </tr>\n",
       "    <tr>\n",
       "      <th>3</th>\n",
       "      <td>4</td>\n",
       "      <td>5</td>\n",
       "      <td>Elaine Thompson</td>\n",
       "      <td>Jamaica (JAM)</td>\n",
       "      <td>10.93</td>\n",
       "      <td>NaN</td>\n",
       "    </tr>\n",
       "    <tr>\n",
       "      <th>4</th>\n",
       "      <td>5</td>\n",
       "      <td>8</td>\n",
       "      <td>Murielle Ahouré</td>\n",
       "      <td>Ivory Coast (CIV)</td>\n",
       "      <td>11.02</td>\n",
       "      <td>SB</td>\n",
       "    </tr>\n",
       "    <tr>\n",
       "      <th>5</th>\n",
       "      <td>6</td>\n",
       "      <td>9</td>\n",
       "      <td>Jonielle Smith</td>\n",
       "      <td>Jamaica (JAM)</td>\n",
       "      <td>11.06</td>\n",
       "      <td>NaN</td>\n",
       "    </tr>\n",
       "    <tr>\n",
       "      <th>6</th>\n",
       "      <td>7</td>\n",
       "      <td>3</td>\n",
       "      <td>Teahna Daniels</td>\n",
       "      <td>United States (USA)</td>\n",
       "      <td>11.19</td>\n",
       "      <td>NaN</td>\n",
       "    </tr>\n",
       "    <tr>\n",
       "      <th>7</th>\n",
       "      <td>NaN</td>\n",
       "      <td>2</td>\n",
       "      <td>Dafne Schippers</td>\n",
       "      <td>Netherlands (NED)</td>\n",
       "      <td>DNS</td>\n",
       "      <td>NaN</td>\n",
       "    </tr>\n",
       "  </tbody>\n",
       "</table>\n",
       "</div>"
      ],
      "text/plain": [
       "                            Rank  Lane                     Name  \\\n",
       "0    1st place, gold medalist(s)     6  Shelly-Ann Fraser-Pryce   \n",
       "1  2nd place, silver medalist(s)     7         Dina Asher-Smith   \n",
       "2  3rd place, bronze medalist(s)     4       Marie-Josée Ta Lou   \n",
       "3                              4     5          Elaine Thompson   \n",
       "4                              5     8          Murielle Ahouré   \n",
       "5                              6     9           Jonielle Smith   \n",
       "6                              7     3           Teahna Daniels   \n",
       "7                            NaN     2          Dafne Schippers   \n",
       "\n",
       "                   Nationality   Time Notes  \n",
       "0                Jamaica (JAM)  10.71    WL  \n",
       "1   Great Britain & N.I. (GBR)  10.83    NR  \n",
       "2            Ivory Coast (CIV)   10.9   NaN  \n",
       "3                Jamaica (JAM)  10.93   NaN  \n",
       "4            Ivory Coast (CIV)  11.02    SB  \n",
       "5                Jamaica (JAM)  11.06   NaN  \n",
       "6          United States (USA)  11.19   NaN  \n",
       "7            Netherlands (NED)    DNS   NaN  "
      ]
     },
     "execution_count": 4,
     "metadata": {},
     "output_type": "execute_result"
    }
   ],
   "source": [
    "## reading the file, which is located in the current working directory\n",
    "cd = pd.read_csv(\"WAC2019-100m-women.csv\")\n",
    "cd   ## note the html format of the presentation of the table"
   ]
  },
  {
   "cell_type": "code",
   "execution_count": 9,
   "metadata": {},
   "outputs": [
    {
     "name": "stdout",
     "output_type": "stream",
     "text": [
      "                            Rank  Lane                     Name  \\\n",
      "0    1st place, gold medalist(s)     6  Shelly-Ann Fraser-Pryce   \n",
      "1  2nd place, silver medalist(s)     7         Dina Asher-Smith   \n",
      "2  3rd place, bronze medalist(s)     4       Marie-Josée Ta Lou   \n",
      "3                              4     5          Elaine Thompson   \n",
      "4                              5     8          Murielle Ahouré   \n",
      "5                              6     9           Jonielle Smith   \n",
      "6                              7     3           Teahna Daniels   \n",
      "7                            NaN     2          Dafne Schippers   \n",
      "\n",
      "                   Nationality   Time Notes  \n",
      "0                Jamaica (JAM)  10.71    WL  \n",
      "1   Great Britain & N.I. (GBR)  10.83    NR  \n",
      "2            Ivory Coast (CIV)   10.9   NaN  \n",
      "3                Jamaica (JAM)  10.93   NaN  \n",
      "4            Ivory Coast (CIV)  11.02    SB  \n",
      "5                Jamaica (JAM)  11.06   NaN  \n",
      "6          United States (USA)  11.19   NaN  \n",
      "7            Netherlands (NED)    DNS   NaN  \n"
     ]
    }
   ],
   "source": [
    "print(cd)  ## plain printout, not an html printout"
   ]
  },
  {
   "cell_type": "code",
   "execution_count": null,
   "metadata": {},
   "outputs": [],
   "source": []
  }
 ],
 "metadata": {
  "kernelspec": {
   "display_name": "Python 3",
   "language": "python",
   "name": "python3"
  },
  "language_info": {
   "codemirror_mode": {
    "name": "ipython",
    "version": 3
   },
   "file_extension": ".py",
   "mimetype": "text/x-python",
   "name": "python",
   "nbconvert_exporter": "python",
   "pygments_lexer": "ipython3",
   "version": "3.8.11"
  }
 },
 "nbformat": 4,
 "nbformat_minor": 1
}
